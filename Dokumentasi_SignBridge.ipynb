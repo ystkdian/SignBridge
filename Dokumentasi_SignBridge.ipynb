{
  "nbformat": 4,
  "nbformat_minor": 0,
  "metadata": {
    "colab": {
      "provenance": [],
      "collapsed_sections": [
        "rg1diexMK1s-",
        "N1hIc9E9FoNs",
        "OVikHKN_HBcX",
        "wt7GUGGMOIQR"
      ]
    },
    "kernelspec": {
      "name": "python3",
      "display_name": "Python 3"
    },
    "language_info": {
      "name": "python"
    }
  },
  "cells": [
    {
      "cell_type": "markdown",
      "source": [
        "# **Proyek Pengenalan Bahasa Isyarat SIBI & BISINDO Menggunakan Model Hybrid**\n",
        "\n",
        "Dokumentasi ini memberikan panduan lengkap untuk proyek pengenalan abjad Bahasa Isyarat Indonesia (SIBI) & (BISINDO) menggunakan model *deep learning*. Proyek ini memanfaatkan model hybrid yang menggabungkan arsitektur **MobileNetV2** untuk analisis fitur gambar dan **MediaPipe** untuk ekstraksi *landmark* tangan, sehingga menghasilkan sistem pengenalan yang akurat dan efisien."
      ],
      "metadata": {
        "id": "-_8qDFwOI5Ga"
      }
    },
    {
      "cell_type": "markdown",
      "source": [
        "## **Prasyarat**\n",
        "\n",
        "Sebelum memulai, pastikan Anda memiliki:\n",
        "\n",
        "* Python 3\\.  \n",
        "* Akses ke lingkungan Google Colab (disarankan untuk pemanfaatan GPU gratis) atau Jupyter Notebook.  \n",
        "* Akun Kaggle untuk mengunduh dataset yang diperlukan.\n"
      ],
      "metadata": {
        "id": "5LUdU566J-Ms"
      }
    },
    {
      "cell_type": "markdown",
      "source": [
        "## **Instalasi**\n",
        "\n",
        "Langkah pertama adalah menginstal semua pustaka Python yang dibutuhkan. Perintah ini akan mengunduh dan menginstal pustaka seperti MediaPipe untuk deteksi tangan, TensorFlow untuk membangun model, dan lainnya.\n",
        "![Screenshot 2025-06-13 135700](https://github.com/user-attachments/assets/336d1532-8267-43df-ad48-6f4d1b32e425)\n"
      ],
      "metadata": {
        "id": "EngGYUEcKdO7"
      }
    },
    {
      "cell_type": "markdown",
      "source": [
        "## **Struktur Proyek**\n",
        "\n",
        "Proyek ini akan membuat struktur direktori berikut di dalam Google Drive Anda. Ini membantu dalam mengelola file dataset, data yang telah diproses, dan model yang disimpan secara terorganisir.\n",
        "\n",
        "**Struktur SIBI**\\\n",
        "/content/drive/MyDrive/Capstone/Sibi/  \n",
        "├── dataset\\_isyarat/  \n",
        "│   ├── raw\\_data/  \n",
        "│   └── combined-sibi-dataset.zip  \n",
        "├── processed\\_hybrid\\_data/  \n",
        "│   ├── ... (file .npy dan .txt)  \n",
        "└── models\\_hybrid/  \n",
        "    └── ... (file .keras dan .h5)\n",
        "\n",
        "\n",
        "**Struktur BISINDO**/\n",
        "/content/drive/MyDrive/Capstone/\n",
        "\n",
        "├── dataset\\_isyarat/  \n",
        "│   ├── raw\\_data/  \n",
        "│   └── alphabet-bisindo.zip  \n",
        "├── processed\\_hybrid\\_data/  \n",
        "│   ├── ... (file .npy dan .txt)  \n",
        "└── models\\_hybrid/  \n",
        "    └── ... (file .keras dan .h5)\n",
        "\n"
      ],
      "metadata": {
        "id": "jGDLnigXKxZF"
      }
    },
    {
      "cell_type": "markdown",
      "source": [
        "## 1. Setup Arsitektur dan pelatihan Model"
      ],
      "metadata": {
        "id": "rg1diexMK1s-"
      }
    },
    {
      "cell_type": "markdown",
      "source": [
        "#### 1.1 Pengaturan Awal dan Impor Pustaka\n",
        "\n",
        "Tujuan: Menyiapkan lingkungan kerja.  \n",
        "Penjelasan Program: Sel ini mengimpor semua modul dan pustaka yang akan digunakan di seluruh proyek dan menghubungkan Google Colab dengan Google Drive Anda.  \n",
        "![Screenshot 2025-06-13 135726](https://github.com/user-attachments/assets/12f8d50d-b592-4281-a7f8-4c4cfb9a8fe4)"
      ],
      "metadata": {
        "id": "z7POlc7XK88v"
      }
    },
    {
      "cell_type": "markdown",
      "source": [
        "#### 1.2. Pengaturan Path Direktori\n",
        "\n",
        "Tujuan: Mendefinisikan lokasi penyimpanan file.  \n",
        "Penjelasan Program: Kode ini mendefinisikan variabel-variabel yang berisi path ke direktori-direktori penting dan membuatnya jika belum ada.  \n",
        "![Screenshot 2025-06-13 135801](https://github.com/user-attachments/assets/096019cd-3459-4ee6-be71-e475cac39edb)"
      ],
      "metadata": {
        "id": "mJpzpc-XLHxq"
      }
    },
    {
      "cell_type": "markdown",
      "source": [
        "#### 3. Unduh dan Ekstrak Dataset\n",
        "\n",
        "Tujuan: Mendapatkan data gambar yang akan digunakan untuk melatih model.  \n",
        "Penjelasan Program:\n",
        "\n",
        "* **Kredensial Kaggle**: Anda akan diminta mengunggah file kaggle.json dari akun Kaggle Anda.  \n",
        "* **Unduh & Ekstrak**: Program akan menggunakan API Kaggle untuk mengunduh dan mengekstrak dataset ke RAW\\_DATA\\_PATH.\n",
        "![Screenshot 2025-06-13 135845](https://github.com/user-attachments/assets/2347be29-eef9-49b2-9766-812965889394)"
      ],
      "metadata": {
        "id": "wn_CTv-XLz-f"
      }
    },
    {
      "cell_type": "markdown",
      "source": [
        "#### 1.4\\. Pra-pemrosesan dan Ekstraksi Fitur\n",
        "\n",
        "Tujuan: Mengubah data mentah menjadi format yang siap untuk model.  \n",
        "Penjelasan Program:\n",
        "\n",
        "* **extract\\_landmarks\\_from\\_image**: Fungsi untuk mendeteksi dan menormalisasi 21 *landmark* (x,y) tangan dari sebuah gambar.  \n",
        "* **process\\_hybrid\\_dataset**: Fungsi utama untuk melakukan iterasi ke semua gambar, mengubah ukurannya, memanggil ekstraksi *landmark*, dan menyimpan hasilnya sebagai file .npy.\n",
        "  \n",
        "![Screenshot 2025-06-13 135930](https://github.com/user-attachments/assets/440d328f-80ae-41c9-b7aa-981fd5f43cf6)\n",
        "![Screenshot 2025-06-13 140011](https://github.com/user-attachments/assets/256dcc8d-45ce-419e-9a5c-51180169c512)\n"
      ],
      "metadata": {
        "id": "ffJr_MxsM83H"
      }
    },
    {
      "cell_type": "markdown",
      "source": [
        "#### 1.5.  Persiapan Data untuk Pelatihan\n",
        "\n",
        "Tujuan: Membagi data dan menyiapkan augmentasi untuk mencegah overfitting.  \n",
        "Penjelasan Program: Memuat data yang telah diproses, menormalisasi nilai piksel gambar, melakukan one-hot encoding pada label, membagi data menjadi set pelatihan, validasi, dan pengujian, serta menyiapkan ImageDataGenerator untuk augmentasi.  \n",
        "\n",
        "![Screenshot 2025-06-13 140050](https://github.com/user-attachments/assets/1fef9a79-ebd0-42a4-b149-ed6cead0b658)\n"
      ],
      "metadata": {
        "id": "474676brNDl1"
      }
    },
    {
      "cell_type": "markdown",
      "source": [
        "#### 1.6\\. Pembuatan dan Pelatihan Model\n",
        "\n",
        "Tujuan: Membangun dan melatih arsitektur model hybrid.  \n",
        "Penjelasan Program: Mendefinisikan arsitektur model dengan dua input (gambar dan landmark), menggabungkan fitur dari keduanya, dan melatihnya menggunakan data yang telah disiapkan.  \n",
        "\n",
        "![Screenshot 2025-06-13 140111](https://github.com/user-attachments/assets/106ead9c-0b1b-4380-9661-6ed564fc6489)\n",
        "![Screenshot 2025-06-13 140138](https://github.com/user-attachments/assets/f4f11e99-f6c3-4b98-80db-1b716a70f12e)"
      ],
      "metadata": {
        "id": "wzeD1jtDNP9K"
      }
    },
    {
      "cell_type": "markdown",
      "source": [
        "#### 1.7\\. Evaluasi Model\n",
        "\n",
        "Tujuan: Mengukur performa model pada data yang belum pernah dilihat.  \n",
        "Penjelasan Program: Setelah dilatih, model dievaluasi pada data uji untuk mendapatkan metrik performa yang objektif.  \n",
        "![Screenshot 2025-06-13 140215](https://github.com/user-attachments/assets/0adc8014-86d6-4e0e-a4db-f3e087de1588)\n"
      ],
      "metadata": {
        "id": "-3Pk9REnNX-1"
      }
    },
    {
      "cell_type": "markdown",
      "source": [
        "#### 1.8\\. Simpan Model dan Prediksi\n",
        "\n",
        "Tujuan: Menyimpan model dan mengujinya pada gambar baru.  \n",
        "Penjelasan Program: Menyimpan model yang telah dilatih dan menyediakan fungsi interaktif untuk memprediksi kelas dari gambar yang diunggah pengguna.  \n",
        "![Screenshot 2025-06-13 140313](https://github.com/user-attachments/assets/b1229c0c-5fc1-4906-b254-51bbda487b11)\n",
        "![Screenshot 2025-06-13 140243](https://github.com/user-attachments/assets/2c2e9c51-d135-413e-87d3-8ec0f8e2dee2)"
      ],
      "metadata": {
        "id": "ueJNqUjMNePl"
      }
    },
    {
      "cell_type": "markdown",
      "source": [
        "#### **Hasil**\n",
        "\n",
        "Model yang telah dilatih menunjukkan performa yang sangat baik dan berhasil mencapai:\n",
        "\n",
        "* **Akurasi Validasi Tertinggi**: **98.77%**  \n",
        "* **Akurasi pada Data Pengujian**: **98.77%**\n",
        "\n",
        "Hasil ini menunjukkan bahwa arsitektur hybrid mampu mempelajari fitur visual dan spasial dari bahasa isyarat secara efektif, dengan kemampuan generalisasi yang kuat pada data baru.\n"
      ],
      "metadata": {
        "id": "_ARz7JCPNic2"
      }
    },
    {
      "cell_type": "markdown",
      "source": [
        "**Catatan Penting**: Karena model ini memiliki dua input (image\\_input dan landmark\\_input), saat menggunakannya di JavaScript, Anda harus memberikan input dalam bentuk *dictionary* yang sesuai, misalnya: model.predict({'image\\_input': imageTensor, 'landmark\\_input': landmarkTensor}).\n"
      ],
      "metadata": {
        "id": "zC7uHdOXNsrS"
      }
    },
    {
      "cell_type": "markdown",
      "source": [
        "## 2. Setup Backend"
      ],
      "metadata": {
        "id": "N1hIc9E9FoNs"
      }
    },
    {
      "cell_type": "markdown",
      "source": [
        "#### 2.1 Navigasi ke folder backend\n",
        "Buka terminal dan masuk ke direktori backend proyek Anda."
      ],
      "metadata": {
        "id": "CacFsPFUFwUn"
      }
    },
    {
      "cell_type": "code",
      "source": [
        "cd path/to/SignBridge-App/backend"
      ],
      "metadata": {
        "id": "TLCnz4tMFsyw"
      },
      "execution_count": null,
      "outputs": []
    },
    {
      "cell_type": "markdown",
      "source": [
        "#### 2.2 Buat Virtual Environment\n",
        "Membuat lingkungan terisolasi untuk dependensi Python."
      ],
      "metadata": {
        "id": "OOeSKJ49F-Qj"
      }
    },
    {
      "cell_type": "code",
      "source": [
        "# Perintah untuk membuat venv\n",
        "python -m venv venv\n",
        "\n",
        "# Aktivasi di Windows\n",
        "venv\\Scripts\\activate\n",
        "\n",
        "# Aktivasi di macOS/Linux\n",
        "source venv/bin/activate"
      ],
      "metadata": {
        "id": "VlzIgpflGBWT"
      },
      "execution_count": null,
      "outputs": []
    },
    {
      "cell_type": "markdown",
      "source": [
        "#### 2.3 Install Dependencies\n",
        "Install semua library yang dibutuhkan dari file requirements.txt dari model"
      ],
      "metadata": {
        "id": "fmx0sqHQGFji"
      }
    },
    {
      "cell_type": "code",
      "source": [
        "pip install -r requirements.txt"
      ],
      "metadata": {
        "id": "SjH19uxOGOZY"
      },
      "execution_count": null,
      "outputs": []
    },
    {
      "cell_type": "markdown",
      "source": [
        "#### 2.4 Jalankan Backend Server\n",
        "Jalankan server web ASGI menggunakan Uvicorn, server ini akan berjalan di komputer lokal"
      ],
      "metadata": {
        "id": "2smWUhjbGQo5"
      }
    },
    {
      "cell_type": "code",
      "source": [
        "# Pastikan port sesuai dengan yang akan digunakan Ngrok, misal 8001\n",
        "uvicorn main:app --port 8001"
      ],
      "metadata": {
        "id": "khsVpVXaGV5m"
      },
      "execution_count": null,
      "outputs": []
    },
    {
      "cell_type": "markdown",
      "source": [
        "Backend sekarang berjalan di http://localhost:8001"
      ],
      "metadata": {
        "id": "bkRqo6UCGctj"
      }
    },
    {
      "cell_type": "markdown",
      "source": [
        "## 3. Setup Gateway Publik dengan Ngrok"
      ],
      "metadata": {
        "id": "OVikHKN_HBcX"
      }
    },
    {
      "cell_type": "markdown",
      "source": [
        "#### 3.1 Install & Konfigurasi Ngrok\n",
        "Proses ini hanya perlu dilakukan sekali.\n",
        "\n",
        "1. Unduh Ngrok dari https://ngrok.com/download\n",
        "2. Daftar akun di Ngrok untuk mendapatkan Authtoken.\n",
        "3. Konfigurasi token di terminal:"
      ],
      "metadata": {
        "id": "zwbvJSnfHrSA"
      }
    },
    {
      "cell_type": "code",
      "source": [
        "ngrok config add-authtoken <TOKEN_DARI_DASHBOARD>"
      ],
      "metadata": {
        "id": "xOiA13x5Hw75"
      },
      "execution_count": null,
      "outputs": []
    },
    {
      "cell_type": "markdown",
      "source": [
        "#### 3.2 Jalankan Tunnel Ngrok\n",
        "1. Buka terminal baru (biarkan terminal backend tetap berjalan).\n",
        "2. Jalankan perintah ini untuk membuat URL publik yang menunjuk ke server lokal:"
      ],
      "metadata": {
        "id": "ZG1JZ8I1H42E"
      }
    },
    {
      "cell_type": "code",
      "source": [
        "ngrok http 8001"
      ],
      "metadata": {
        "id": "uOMidMEFIDqD"
      },
      "execution_count": null,
      "outputs": []
    },
    {
      "cell_type": "markdown",
      "source": [
        "angka 8001 harus sama didapatkan dari port yang digunakan Uvicorn"
      ],
      "metadata": {
        "id": "EwarM3MSIOXZ"
      }
    },
    {
      "cell_type": "markdown",
      "source": [
        "## 4. Setup Front-end"
      ],
      "metadata": {
        "id": "wt7GUGGMOIQR"
      }
    },
    {
      "cell_type": "markdown",
      "source": [
        "#### 4.1 Dapatkan URL Publik\n",
        "Setelah menjalankan Ngrok salin URL  yang muncul di terminal, Ini adalah alamat publik baru untuk backend Anda.\n",
        "\n",
        "> \"https://.....>ngrok-free.app\n",
        "\n",
        "\n",
        "\n"
      ],
      "metadata": {
        "id": "fKjkV61AOQ8A"
      }
    },
    {
      "cell_type": "markdown",
      "source": [
        "#### 4.2 Konfigurasi Koneksi Frontend\n",
        "1. Buka file frontend/script.js.\n",
        "2. Ubah konstanta BACKEND_DOMAIN dengan URL publik yang didapat dari Ngrok (hanya nama domainnya, tanpa https://)."
      ],
      "metadata": {
        "id": "xP0x7jUmOwYm"
      }
    },
    {
      "cell_type": "code",
      "source": [
        "// Ganti dengan domain dari Ngrok Anda\n",
        "const BACKEND_DOMAIN = \"xxxx-xx-xx.ngrok-free.app\";\n",
        "\n",
        "// Protokol akan otomatis disesuaikan\n",
        "const WEBSOCKET_URL = `wss://${BACKEND_DOMAIN}/ws`;\n",
        "const TRANSCRIBE_URL = `https://${BACKEND_DOMAIN}/transcribe`;"
      ],
      "metadata": {
        "id": "6HzAnqkePCCO"
      },
      "execution_count": null,
      "outputs": []
    },
    {
      "cell_type": "markdown",
      "source": [
        "Alamat tersebut akan berubah ubah setiap ngrok dijalankan ulang jadi pastikan anda mengubah di file script.js setiap kali anda menjalankan ulang ngrok"
      ],
      "metadata": {
        "id": "TbY19ZHTPuOE"
      }
    },
    {
      "cell_type": "markdown",
      "source": [
        "#### 4.3 Jalankan & Bagikan Frontend\n",
        "Untuk Tes: Buka file frontend/index.html di browser Anda. Aplikasi akan terhubung ke server lokal Anda melalui Ngrok.\n",
        "Untuk Berbagi: Unggah (push) perubahan script.js ke GitHub"
      ],
      "metadata": {
        "id": "v96J-cw_O_Lz"
      }
    },
    {
      "cell_type": "markdown",
      "source": [
        "#### 4.4 Deploy Frontend ke Netlify\n",
        "1. Daftar dahulu ke https://www.netlify.com/ dan connect menggunakan akun Github\n",
        "2. Buat New site from Git di Netlify, hubungkan ke repositori GitHub frontend dari SignBridge\n",
        "3. Isi Konfigurasi:\n",
        "Branch to deploy: main\n",
        "Build command: Biarkan kosong\n",
        "Publish directory: frontend\n",
        "4. Klik Deploy site\n",
        "5. Setelah Frontend online dan berhasil di deploy, copy domain yang telah dibuat dan gunakan link tersebut untuk mengakses aplikasi"
      ],
      "metadata": {
        "id": "SDeceUWmPhUw"
      }
    },
    {
      "cell_type": "markdown",
      "source": [
        "**LINK APLIKASI SIGNBRIDGE: https://signbridge-app.netlify.app/**"
      ],
      "metadata": {
        "id": "oH1zzSOLQ1-C"
      }
    }
  ]
}